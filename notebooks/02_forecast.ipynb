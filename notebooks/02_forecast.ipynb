{
 "cells": [
  {
   "cell_type": "code",
   "execution_count": 16,
   "id": "8e7b9916",
   "metadata": {},
   "outputs": [
    {
     "name": "stderr",
     "output_type": "stream",
     "text": [
      "00:29:51 - cmdstanpy - INFO - Chain [1] start processing\n",
      "00:29:52 - cmdstanpy - INFO - Chain [1] done processing\n",
      "00:29:52 - cmdstanpy - INFO - Chain [1] done processing\n"
     ]
    },
    {
     "name": "stdout",
     "output_type": "stream",
     "text": [
      "✅ National forecast saved.\n"
     ]
    }
   ],
   "source": [
    "# forecast_national\n",
    "\n",
    "import pandas as pd\n",
    "from prophet import Prophet\n",
    "\n",
    "df = pd.read_csv('D:\\\\Intership\\\\sales_forecasting_dashboard\\\\Data\\\\Processed\\\\monthly_sales_national.csv')\n",
    "\n",
    "# Create Prophet model\n",
    "model = Prophet()\n",
    "model.fit(df)\n",
    "\n",
    "# Create future dataframe (next 6 months)\n",
    "future = model.make_future_dataframe(periods=6, freq='ME')\n",
    "\n",
    "# Forecast\n",
    "forecast = model.predict(future)\n",
    "\n",
    "forecast.to_csv('D:\\\\Intership\\\\sales_forecasting_dashboard\\\\Data\\\\Forecast\\\\national_forecast.csv', index=False)\n",
    "\n",
    "print(\"✅ National forecast saved.\")\n"
   ]
  },
  {
   "cell_type": "code",
   "execution_count": 17,
   "id": "e50a9f27",
   "metadata": {},
   "outputs": [
    {
     "name": "stderr",
     "output_type": "stream",
     "text": [
      "00:29:52 - cmdstanpy - INFO - Chain [1] start processing\n",
      "00:29:52 - cmdstanpy - INFO - Chain [1] done processing\n",
      "00:29:52 - cmdstanpy - INFO - Chain [1] done processing\n",
      "00:29:52 - cmdstanpy - INFO - Chain [1] start processing\n",
      "00:29:52 - cmdstanpy - INFO - Chain [1] start processing\n"
     ]
    },
    {
     "name": "stdout",
     "output_type": "stream",
     "text": [
      "✅ Forecast saved for Central\n"
     ]
    },
    {
     "name": "stderr",
     "output_type": "stream",
     "text": [
      "00:29:52 - cmdstanpy - INFO - Chain [1] done processing\n",
      "00:29:52 - cmdstanpy - INFO - Chain [1] start processing\n",
      "00:29:52 - cmdstanpy - INFO - Chain [1] start processing\n"
     ]
    },
    {
     "name": "stdout",
     "output_type": "stream",
     "text": [
      "✅ Forecast saved for East\n"
     ]
    },
    {
     "name": "stderr",
     "output_type": "stream",
     "text": [
      "00:29:52 - cmdstanpy - INFO - Chain [1] done processing\n",
      "00:29:53 - cmdstanpy - INFO - Chain [1] start processing\n",
      "00:29:53 - cmdstanpy - INFO - Chain [1] start processing\n"
     ]
    },
    {
     "name": "stdout",
     "output_type": "stream",
     "text": [
      "✅ Forecast saved for South\n"
     ]
    },
    {
     "name": "stderr",
     "output_type": "stream",
     "text": [
      "00:29:53 - cmdstanpy - INFO - Chain [1] done processing\n"
     ]
    },
    {
     "name": "stdout",
     "output_type": "stream",
     "text": [
      "✅ Forecast saved for West\n"
     ]
    }
   ],
   "source": [
    "# forecast_regions\n",
    "\n",
    "df = pd.read_csv('D:\\\\Intership\\\\sales_forecasting_dashboard\\\\Data\\\\Processed\\\\monthly_sales_by_region.csv')\n",
    "\n",
    "\n",
    "# Forecast for each region\n",
    "for region in df['Region'].unique():\n",
    "    region_df = df[df['Region'] == region][['ds', 'y']]\n",
    "    model = Prophet()\n",
    "    model.fit(region_df)\n",
    "\n",
    "    # Forecast next 6 months\n",
    "    future = model.make_future_dataframe(periods=6, freq='ME')\n",
    "    forecast = model.predict(future)\n",
    "\n",
    "    # Save forecast for the region\n",
    "    forecast[['ds', 'yhat', 'yhat_lower', 'yhat_upper']].to_csv(\n",
    "        f'D:\\\\Intership\\\\sales_forecasting_dashboard\\\\Data\\\\Forecast\\\\Regions\\\\{region}_forecast.csv', index=False\n",
    "    )\n",
    "\n",
    "    print(f\"✅ Forecast saved for {region}\")\n"
   ]
  },
  {
   "cell_type": "code",
   "execution_count": 18,
   "id": "14349013",
   "metadata": {},
   "outputs": [
    {
     "data": {
      "text/plain": [
       "'D:\\\\Intership\\\\sales_forecasting_dashboard\\\\Visualization\\\\national_forecast.html'"
      ]
     },
     "execution_count": 18,
     "metadata": {},
     "output_type": "execute_result"
    }
   ],
   "source": [
    "import plotly.graph_objs as go\n",
    "import plotly.offline as py\n",
    "\n",
    "# Load national sales data\n",
    "df_national = pd.read_csv('D:\\\\Intership\\\\sales_forecasting_dashboard\\\\Data\\\\Processed\\\\monthly_sales_national.csv')\n",
    "fig = go.Figure()\n",
    "\n",
    "# Actual sales\n",
    "fig.add_trace(go.Scatter(\n",
    "    x=df_national['ds'], \n",
    "    y=df_national['y'],\n",
    "    mode='markers',\n",
    "    name='Actual'\n",
    "))\n",
    "\n",
    "# Forecasted sales\n",
    "fig.add_trace(go.Scatter(\n",
    "    x=forecast['ds'],\n",
    "    y=forecast['yhat'],\n",
    "    mode='lines',\n",
    "    name='Forecast'\n",
    "))\n",
    "\n",
    "# Uncertainty intervals\n",
    "fig.add_trace(go.Scatter(\n",
    "    x=forecast['ds'],\n",
    "    y=forecast['yhat_upper'],\n",
    "    mode='lines',\n",
    "    line=dict(width=0),\n",
    "    name='Upper Bound',\n",
    "    showlegend=False\n",
    "))\n",
    "\n",
    "fig.add_trace(go.Scatter(\n",
    "    x=forecast['ds'],\n",
    "    y=forecast['yhat_lower'],\n",
    "    mode='lines',\n",
    "    line=dict(width=0),\n",
    "    name='Lower Bound',\n",
    "    fill='tonexty',\n",
    "    fillcolor='rgba(0,100,80,0.2)',\n",
    "    showlegend=False\n",
    "))\n",
    "\n",
    "fig.update_layout(\n",
    "    title='National Sales Forecast',\n",
    "    xaxis_title='Date',\n",
    "    yaxis_title='Sales',\n",
    "    template='plotly_white'\n",
    ")\n",
    "\n",
    "# Save to HTML\n",
    "py.plot(fig, filename='D:\\\\Intership\\\\sales_forecasting_dashboard\\\\Visualization\\\\national_forecast.html', auto_open=False)\n"
   ]
  },
  {
   "cell_type": "code",
   "execution_count": 19,
   "id": "a4a09b8a",
   "metadata": {},
   "outputs": [
    {
     "name": "stderr",
     "output_type": "stream",
     "text": [
      "00:29:53 - cmdstanpy - INFO - Chain [1] start processing\n"
     ]
    },
    {
     "name": "stdout",
     "output_type": "stream",
     "text": [
      "Processing region: Central\n"
     ]
    },
    {
     "name": "stderr",
     "output_type": "stream",
     "text": [
      "00:29:53 - cmdstanpy - INFO - Chain [1] done processing\n",
      "00:29:53 - cmdstanpy - INFO - Chain [1] start processing\n",
      "00:29:53 - cmdstanpy - INFO - Chain [1] start processing\n"
     ]
    },
    {
     "name": "stdout",
     "output_type": "stream",
     "text": [
      "Processing region: East\n"
     ]
    },
    {
     "name": "stderr",
     "output_type": "stream",
     "text": [
      "00:29:53 - cmdstanpy - INFO - Chain [1] done processing\n",
      "00:29:53 - cmdstanpy - INFO - Chain [1] start processing\n",
      "00:29:53 - cmdstanpy - INFO - Chain [1] start processing\n"
     ]
    },
    {
     "name": "stdout",
     "output_type": "stream",
     "text": [
      "Processing region: South\n"
     ]
    },
    {
     "name": "stderr",
     "output_type": "stream",
     "text": [
      "00:29:54 - cmdstanpy - INFO - Chain [1] done processing\n",
      "00:29:54 - cmdstanpy - INFO - Chain [1] start processing\n",
      "00:29:54 - cmdstanpy - INFO - Chain [1] start processing\n"
     ]
    },
    {
     "name": "stdout",
     "output_type": "stream",
     "text": [
      "Processing region: West\n"
     ]
    },
    {
     "name": "stderr",
     "output_type": "stream",
     "text": [
      "00:29:54 - cmdstanpy - INFO - Chain [1] done processing\n"
     ]
    }
   ],
   "source": [
    "import os\n",
    "\n",
    "region_df = pd.read_csv('D:\\\\Intership\\\\sales_forecasting_dashboard\\\\Data\\\\Processed\\\\monthly_sales_by_region.csv')\n",
    "\n",
    "# Ensure date format is datetime\n",
    "region_df['ds'] = pd.to_datetime(region_df['ds'])\n",
    "\n",
    "\n",
    "output_dir = 'D:\\\\Intership\\\\sales_forecasting_dashboard\\\\Visualization\\\\regional_forecasts'\n",
    "os.makedirs(output_dir, exist_ok=True)\n",
    "\n",
    "# Get unique regions\n",
    "regions = region_df['Region'].unique()\n",
    "\n",
    "for region in regions:\n",
    "    print(f\"Processing region: {region}\")\n",
    "    \n",
    "    # Filter data for one region\n",
    "    region_data = region_df[region_df['Region'] == region][['ds', 'y']]\n",
    "    \n",
    "    # Train Prophet model\n",
    "    model = Prophet()\n",
    "    model.fit(region_data)\n",
    "\n",
    "    future = model.make_future_dataframe(periods=6, freq='ME')\n",
    "    forecast = model.predict(future)\n",
    "    \n",
    "    # Build custom Plotly visualization\n",
    "    fig = go.Figure()\n",
    "\n",
    "    fig.add_trace(go.Scatter(\n",
    "        x=region_data['ds'],\n",
    "        y=region_data['y'],\n",
    "        mode='markers',\n",
    "        name='Actual'\n",
    "    ))\n",
    "\n",
    "    fig.add_trace(go.Scatter(\n",
    "        x=forecast['ds'],\n",
    "        y=forecast['yhat'],\n",
    "        mode='lines',\n",
    "        name='Forecast'\n",
    "    ))\n",
    "\n",
    "    fig.add_trace(go.Scatter(\n",
    "        x=forecast['ds'],\n",
    "        y=forecast['yhat_upper'],\n",
    "        mode='lines',\n",
    "        line=dict(width=0),\n",
    "        showlegend=False,\n",
    "        name='Upper Bound'\n",
    "    ))\n",
    "\n",
    "    fig.add_trace(go.Scatter(\n",
    "        x=forecast['ds'],\n",
    "        y=forecast['yhat_lower'],\n",
    "        mode='lines',\n",
    "        line=dict(width=0),\n",
    "        fill='tonexty',\n",
    "        fillcolor='rgba(0,100,80,0.2)',\n",
    "        showlegend=False,\n",
    "        name='Lower Bound'\n",
    "    ))\n",
    "\n",
    "    fig.update_layout(\n",
    "        title=f'Sales Forecast for {region} Region',\n",
    "        xaxis_title='Date',\n",
    "        yaxis_title='Sales',\n",
    "        template='plotly_white'\n",
    "    )\n",
    "\n",
    "    # Save as HTML file\n",
    "    filename = os.path.join(output_dir, f'{region.lower()}_forecast.html')\n",
    "    py.plot(fig, filename=filename, auto_open=False)\n"
   ]
  }
 ],
 "metadata": {
  "kernelspec": {
   "display_name": ".venv",
   "language": "python",
   "name": "python3"
  },
  "language_info": {
   "codemirror_mode": {
    "name": "ipython",
    "version": 3
   },
   "file_extension": ".py",
   "mimetype": "text/x-python",
   "name": "python",
   "nbconvert_exporter": "python",
   "pygments_lexer": "ipython3",
   "version": "3.12.10"
  }
 },
 "nbformat": 4,
 "nbformat_minor": 5
}
